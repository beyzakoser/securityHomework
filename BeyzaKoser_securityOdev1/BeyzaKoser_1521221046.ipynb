{
 "cells": [
  {
   "cell_type": "code",
   "execution_count": 1,
   "metadata": {},
   "outputs": [
    {
     "name": "stdout",
     "output_type": "stream",
     "text": [
      "Public key:  (n= 0xdfd3883abb503a8a5355cbd3e547a20104852bacbdeaae151c7501f4a48ef59661aee0a5ee4aa99b2496571ffda5adf070727aca5c531c8351cd8d4a25f4427c726f471ff1722ae14c1ef5349bec4b2c23629f62d051df3b267223608aa41dc9d955fc91c6ca38229a3b04e328bb2af3cb7da593561ada97142113f05ddf51c5 ,e= 0x10001 )\n",
      "Private key:  (n= 0xdfd3883abb503a8a5355cbd3e547a20104852bacbdeaae151c7501f4a48ef59661aee0a5ee4aa99b2496571ffda5adf070727aca5c531c8351cd8d4a25f4427c726f471ff1722ae14c1ef5349bec4b2c23629f62d051df3b267223608aa41dc9d955fc91c6ca38229a3b04e328bb2af3cb7da593561ada97142113f05ddf51c5 ,d= 0x37963d3af8d20ff7d282784083acaa9b3e1824a49df5ee8de7a75778fe7552a0aa59d808dd89455df65430070de35bb35ef9cf6cfa48d9c7f344ed5600df0cb38c7e91b71d198aabf3e05dbfa8abd49026d9342f9c978c379ba7073bacd0d109cc66446e79244f85997fe5ac114acf30a99a21e2a9d77aef5e1aba72dc798781 )\n"
     ]
    }
   ],
   "source": [
    "#1)public private key\n",
    "from Crypto.PublicKey import RSA\n",
    "from Crypto.Cipher import PKCS1_OAEP\n",
    "\n",
    "keyPair = RSA.generate(1024)\n",
    "pubKey = keyPair.publickey()\n",
    "privKeyPEM = keyPair.exportKey()\n",
    "\n",
    "n = hex(pubKey.n)\n",
    "e=hex(pubKey.e)\n",
    "d=hex(keyPair.d)\n",
    "\n",
    "print(\"Public key:  (n=\",n, \",e=\",e,\")\")\n",
    "print(\"Private key:  (n=\",n, \",d=\",d,\")\")"
   ]
  },
  {
   "cell_type": "code",
   "execution_count": 37,
   "metadata": {},
   "outputs": [],
   "source": [
    "pubKey=(n,e)"
   ]
  },
  {
   "cell_type": "code",
   "execution_count": 29,
   "metadata": {},
   "outputs": [
    {
     "data": {
      "text/plain": [
       "'<_RSAobj @0x2789a6c2dd8 n(1024),e>'"
      ]
     },
     "execution_count": 29,
     "metadata": {},
     "output_type": "execute_result"
    }
   ],
   "source": [
    "byz=str(pubKey)\n",
    "byz"
   ]
  },
  {
   "cell_type": "code",
   "execution_count": 30,
   "metadata": {},
   "outputs": [],
   "source": [
    "beyza=str.encode(byz)"
   ]
  },
  {
   "cell_type": "code",
   "execution_count": 2,
   "metadata": {},
   "outputs": [
    {
     "name": "stdout",
     "output_type": "stream",
     "text": [
      "128  bit = k1 = 288230260159505580108248308621322220459\n",
      "256  bit = k2 = 70964658370927040835291594961325496061417754266623466273378323823665443656424\n"
     ]
    }
   ],
   "source": [
    "#2)k1=128 bit\n",
    "# k2=256 bit\n",
    "import random\n",
    "def generate_Ks(keySize):\n",
    "    ks= random.randrange(2**(keySize-1),2**keySize)\n",
    "    return ks\n",
    "k1 = generate_Ks(128)\n",
    "print(k1.bit_length(),\" bit = k1 =\",k1)\n",
    "k2 = generate_Ks(256)\n",
    "print(k2.bit_length(),\" bit = k2 =\",k2)"
   ]
  },
  {
   "cell_type": "code",
   "execution_count": 3,
   "metadata": {},
   "outputs": [],
   "source": [
    "def encryption(pubKey,msg):\n",
    "    encryptor = PKCS1_OAEP.new(pubKey)\n",
    "    encrypted = encryptor.encrypt(msg)\n",
    "    return encrypted \n",
    "\n",
    "def decryption(private,encrypted):\n",
    "    decryptor = PKCS1_OAEP.new(private)\n",
    "    decrypted = decryptor.decrypt(encrypted)\n",
    "    return decrypted"
   ]
  },
  {
   "cell_type": "code",
   "execution_count": 4,
   "metadata": {},
   "outputs": [
    {
     "name": "stdout",
     "output_type": "stream",
     "text": [
      "k1 = 288230260159505580108248308621322220459\n",
      "k1_encryption=  b\"\\x18\\x14v\\t\\x1d\\x94\\xbe\\x88`\\xc0\\x9f\\xf6\\xa5\\xc0\\xcb\\xd7\\x0b\\x86\\xfb\\xfe\\xfe-\\xba\\x06\\x977\\x9a\\xa8\\x14\\xc1\\xdc'\\n7~T\\xe4!KZ\\xa8\\x9e\\xde\\x08\\xba\\x9am\\xbc\\xad\\xc6\\xf3\\xfb\\xf4\\xa7\\x1f\\x14\\xfe\\xde\\x89\\x0f\\x95\\xb0\\x03\\xad!\\x97\\xe3\\x9d^Q\\xe8zF\\xfc\\xe2l\\xab\\x0b\\xd4\\xef\\xec\\xcd\\xe7>\\xcf\\xce:\\x92\\x08Am\\x0ec\\x1a\\x93\\xbc\\xd2\\xc7\\x88\\xf1\\xe5*\\n\\xb1\\xdb\\x1f>\\x06\\x85C\\xed>\\xe7\\x83\\x0c\\xd9\\x96@.$\\x80B\\xb8\\xf2EE5\\xd1\"\n",
      "k1_decryption=  b'288230260159505580108248308621322220459'\n"
     ]
    }
   ],
   "source": [
    "print(\"k1 =\",k1)\n",
    "k1_encryption=encryption(pubKey,str.encode(str(k1)))\n",
    "encryption5=encryption(pubKey,str.encode(str(k1)))\n",
    "print(\"k1_encryption= \",k1_encryption)\n",
    "print(\"k1_decryption= \",decryption(keyPair,k1_encryption))"
   ]
  },
  {
   "cell_type": "code",
   "execution_count": 5,
   "metadata": {},
   "outputs": [
    {
     "name": "stdout",
     "output_type": "stream",
     "text": [
      "k2 = 70964658370927040835291594961325496061417754266623466273378323823665443656424\n",
      "k2_encryption=  b\"\\xd0\\x84\\xc7\\xb6\\x9cK\\x89\\xa8\\xe4O\\xcf\\xef\\xee\\xce\\xfc\\xc5\\xf7\\x9d\\xaf\\xad\\xa0\\xd7c\\xaa@\\xf8\\xc3\\xce\\x12b\\xd4|\\xbd\\x80\\x19'\\xcb\\xce\\xb4\\x9bQe\\x9ey\\xf3\\xa7\\xf4\\x94^R\\x05?f~f\\x13A\\xc4z\\r\\xc87u[\\x93\\xf3|\\xda\\xa4\\xe1\\xb2\\xee\\x85cj;\\xf4M\\x9c\\x14\\x9d\\x1cz\\x89\\x96\\x08#\\x02\\xcf,S\\xb6\\xd2\\xca\\x96\\xa6l\\x8f5b\\x03\\x1eh?sZg;H\\x10S\\xf8\\x86\\x07h\\xf8i\\xb2\\x82\\xd6D\\xbfN\\xdcQ\\x027\\xe5\"\n",
      "k2_decryption=  b'70964658370927040835291594961325496061417754266623466273378323823665443656424'\n"
     ]
    }
   ],
   "source": [
    "print(\"k2 =\",k2)\n",
    "k2_encryption=encryption(pubKey,str.encode(str(k2)))\n",
    "print(\"k2_encryption= \",k2_encryption)\n",
    "print(\"k2_decryption= \",decryption(keyPair,k2_encryption))\n"
   ]
  },
  {
   "cell_type": "code",
   "execution_count": 6,
   "metadata": {},
   "outputs": [],
   "source": [
    "#3)Hash algorithm\n",
    "import hashlib, binascii\n",
    "\n",
    "def hashAlgorithm(msg):\n",
    "    sha256hash = hashlib.sha256(msg).digest()\n",
    "    return sha256hash"
   ]
  },
  {
   "cell_type": "code",
   "execution_count": 7,
   "metadata": {},
   "outputs": [
    {
     "name": "stdout",
     "output_type": "stream",
     "text": [
      "message =  b'Consider a long text m. Apply SHA256 Hash algorithm'\n",
      "hash_message =  b\"k\\x1aO\\xc7\\x81\\x8a}\\xce\\n\\xc7\\xa7#\\xbe\\xab\\xe4s'\\xe6\\x9f\\xa5x\\xadb\\xf7\\xe5]\\xd9!h\\x01\\x84\\xb7\"\n",
      "decrypted    =  b\"k\\x1aO\\xc7\\x81\\x8a}\\xce\\n\\xc7\\xa7#\\xbe\\xab\\xe4s'\\xe6\\x9f\\xa5x\\xadb\\xf7\\xe5]\\xd9!h\\x01\\x84\\xb7\"\n"
     ]
    }
   ],
   "source": [
    "message=b\"Consider a long text m. Apply SHA256 Hash algorithm\"\n",
    "hash_message=hashAlgorithm(message)\n",
    "print(\"message = \",message)\n",
    "print(\"hash_message = \",hash_message)\n",
    "encrypted_hash=encryption(pubKey,hash_message)\n",
    "print(\"decrypted    = \",decryption(keyPair,encrypted_hash))"
   ]
  },
  {
   "cell_type": "code",
   "execution_count": 8,
   "metadata": {},
   "outputs": [],
   "source": [
    "#4) AES\n",
    "from Crypto import Random\n",
    "from Crypto.Cipher import AES\n",
    "import os\n",
    "import os.path\n",
    "from os import listdir\n",
    "from os.path import isfile, join\n",
    "import time\n",
    "\n",
    "def pad(s):\n",
    "    return s + b\"\\0\" * (AES.block_size - len(s) % AES.block_size)\n",
    "\n",
    "def encrypt_AES( message, key, key_size=128):\n",
    "    message = pad(message)\n",
    "    iv = Random.new().read(AES.block_size)\n",
    "    print(\"iv= \",iv)\n",
    "    cipher = AES.new(key, AES.MODE_CBC, iv)\n",
    "    return iv + cipher.encrypt(message)\n",
    "\n",
    "def encrypt_file_AES(key,file_name,output_filename):\n",
    "    with open(file_name, 'rb') as fo:\n",
    "        plaintext = fo.read()\n",
    "    enc = encrypt_AES(plaintext, key)\n",
    "    with open(output_filename, 'wb') as fo:\n",
    "        fo.write(enc)\n",
    "    return enc\n",
    "    \n",
    "def decrypt_AES(ciphertext, key):\n",
    "    iv = ciphertext[:AES.block_size]\n",
    "    cipher = AES.new(key, AES.MODE_CBC, iv)\n",
    "    plaintext = cipher.decrypt(ciphertext[AES.block_size:])\n",
    "    return plaintext.rstrip(b\"\\0\")\n",
    "\n",
    "def decrypt_file_AES(key,file_name):\n",
    "    with open(file_name, 'rb') as fo:\n",
    "        ciphertext = fo.read()\n",
    "    dec =decrypt_AES(ciphertext,key)\n",
    "    with open(file_name[:-4], 'wb') as fo:\n",
    "        fo.write(dec)\n",
    "    return dec"
   ]
  },
  {
   "cell_type": "code",
   "execution_count": 9,
   "metadata": {},
   "outputs": [
    {
     "name": "stdout",
     "output_type": "stream",
     "text": [
      "k1 = b'\\xa5\\xc2w\\xee\\x13\\x18&\\xbcf\\xbb`nf\\\\\\xcc\\x8b'\n",
      "iv=  b'\\xb5\\x0b\\x08\\x0f4QXp \\xecO\\xf1\\x84\\x97~\\xc7'\n",
      "(encryption) k1 = 128 bit= %s seconds 0.06483292579650879\n",
      "(decryption) k1 = 128 bit= %s seconds 0.019946813583374023\n",
      "k2 = b'\\xde\\x19{\\xcd\\xd4\\xe10t\\t#\\xf1H\\xf2a\\xa6gD\\x9f\\xae\\xa3\\xd4\\x85\\xaa4\\xf1\\xbd\\xb3e\\xc0zg\\x0c'\n",
      "iv=  b'z\\xb6\\xcb\\xc5\\xf1\\xb1u\\xb4\\x06j\\x17%\\x9c3*\\x90'\n",
      "(encryption) k2 = 256 bit= %s seconds 0.015469551086425781\n",
      "(decryption) k2 = 256 bit= %s seconds 0.01894998550415039\n"
     ]
    }
   ],
   "source": [
    "from Crypto.Random import get_random_bytes\n",
    "k1=get_random_bytes(16)\n",
    "print(\"k1 =\" ,k1)\n",
    "start_time = time.time()\n",
    "encrypt_file_AES(k1,\"file.txt\",\"file_AES_128.txt\")\n",
    "finish_time=time.time()\n",
    "seconds_AES_128_encryption=finish_time-start_time\n",
    "print(\"(encryption) k1 = 128 bit= %s seconds\" ,seconds_AES_128_encryption)\n",
    "\n",
    "start_time = time.time()\n",
    "decrypt_file_AES(k1,\"file_AES_128.txt\")\n",
    "finish_time=time.time()\n",
    "seconds_AES_128_decryption=finish_time-start_time\n",
    "print(\"(decryption) k1 = 128 bit= %s seconds\" , seconds_AES_128_decryption)\n",
    "\n",
    "k2=get_random_bytes(32)\n",
    "print(\"k2 =\" ,k2)\n",
    "start_time = time.time()\n",
    "encrypt_file_AES(k2,\"file.txt\",\"file_AES_256.txt\")\n",
    "finish_time=time.time()\n",
    "seconds_AES_256_encryption=finish_time-start_time\n",
    "print(\"(encryption) k2 = 256 bit= %s seconds\" ,seconds_AES_256_encryption)\n",
    "\n",
    "start_time = time.time()\n",
    "decrypt_file_AES(k2,\"file_AES_256.txt\")\n",
    "finish_time=time.time()\n",
    "seconds_AES_256_decryption=finish_time-start_time\n",
    "print(\"(decryption) k2 = 256 bit= %s seconds\" , seconds_AES_256_decryption)"
   ]
  },
  {
   "cell_type": "code",
   "execution_count": 22,
   "metadata": {},
   "outputs": [],
   "source": [
    "#DES 56\n",
    "from Crypto.Cipher import DES\n",
    "from Crypto.Util.Padding import pad, unpad\n",
    "from Crypto.Random import get_random_bytes\n",
    "import time\n",
    "\n",
    "def encrypt_DES(key, message):\n",
    "    des = DES.new(key, DES.MODE_ECB)\n",
    "    message = pad(message,8)      \n",
    "    return des.encrypt(message)\n",
    "\n",
    "def encrypt_file_DES(key, file_name,out_file_name):\n",
    "    with open(file_name, 'rb') as fo:\n",
    "        plaintext = fo.read()\n",
    "    enc = encrypt_DES(key,plaintext)\n",
    "    with open(out_file_name, 'wb') as fo:\n",
    "        fo.write(enc)\n",
    "    return enc\n",
    "\n",
    "def decrypt_DES(key,ciphertext):\n",
    "    des = DES.new(key, DES.MODE_ECB)\n",
    "    return unpad(des.decrypt(ciphertext),8)\n",
    "\n",
    "def decrypt_file_DES(key,file_name):\n",
    "\n",
    "    with open(file_name, 'rb') as fo:\n",
    "        ciphertext = fo.read()\n",
    "    dec = decrypt_DES(key,ciphertext)\n",
    "    with open(file_name[:-4], 'wb') as fo:\n",
    "        fo.write(dec)\n",
    "    return dec    "
   ]
  },
  {
   "cell_type": "code",
   "execution_count": 23,
   "metadata": {},
   "outputs": [
    {
     "name": "stdout",
     "output_type": "stream",
     "text": [
      "(encryption) k3 = 56 bit= %s seconds 0.01894974708557129\n",
      "(decryption) k3 = 56 bit= %s seconds 0.0219423770904541\n"
     ]
    }
   ],
   "source": [
    "k3 = get_random_bytes(8)#7 yi kabul etmedi 8 verdim\n",
    "start_time = time.time()\n",
    "\n",
    "encrypt_file_DES(k3,\"file.txt\",\"file_des.txt\")\n",
    "finish_time=time.time()\n",
    "seconds_DES_encryption=finish_time-start_time\n",
    "\n",
    "print(\"(encryption) k3 = 56 bit= %s seconds\" ,seconds_DES_encryption)\n",
    "\n",
    "start_time = time.time()\n",
    "decrypt_file_DES(k3,\"file_des.txt\")\n",
    "finish_time=time.time()\n",
    "seconds_DES_decryption=finish_time-start_time\n",
    "print(\"(decryption) k3 = 56 bit= %s seconds\" , seconds_DES_decryption)"
   ]
  },
  {
   "cell_type": "code",
   "execution_count": null,
   "metadata": {},
   "outputs": [],
   "source": []
  }
 ],
 "metadata": {
  "kernelspec": {
   "display_name": "Python 3",
   "language": "python",
   "name": "python3"
  },
  "language_info": {
   "codemirror_mode": {
    "name": "ipython",
    "version": 3
   },
   "file_extension": ".py",
   "mimetype": "text/x-python",
   "name": "python",
   "nbconvert_exporter": "python",
   "pygments_lexer": "ipython3",
   "version": "3.7.1"
  }
 },
 "nbformat": 4,
 "nbformat_minor": 2
}
